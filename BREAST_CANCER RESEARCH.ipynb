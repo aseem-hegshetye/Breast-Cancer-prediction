{
 "cells": [
  {
   "cell_type": "markdown",
   "metadata": {},
   "source": [
    "### WE WILL LOAD BREAST CANCER DATA IN AI DB \n",
    "### DECIMALIZE IT\n",
    "### SEPERATE TRAINING (80%) AND TESTING (20%) DATA AND LOAD IN CSV\n",
    "### RUN DIFFERENT AI'S ON IT\n",
    "\n"
   ]
  },
  {
   "cell_type": "code",
   "execution_count": 2,
   "metadata": {},
   "outputs": [],
   "source": [
    "from sklearn.datasets import *\n",
    "from sqlalchemy import create_engine\n",
    "import numpy\n",
    "import pandas\n",
    "from pandas import *\n",
    "import pandas.io.sql as psql\n",
    "import csv\n",
    "import datetime\n",
    "import matplotlib.pyplot as plt\n",
    "from matplotlib import style\n",
    "import matplotlib\n",
    "import psycopg2\n",
    "import glob, os\n",
    "from collections import OrderedDict\n",
    "import shutil\n",
    "import pdb\n",
    "from pdb import set_trace as bp\n",
    "from sklearn.ensemble import RandomForestClassifier\n",
    "from sklearn.neural_network import MLPClassifier \n",
    "from sklearn.linear_model import LogisticRegression"
   ]
  },
  {
   "cell_type": "code",
   "execution_count": 3,
   "metadata": {},
   "outputs": [
    {
     "name": "stdout",
     "output_type": "stream",
     "text": [
      "(506, 13)\n",
      "(569, 30)\n"
     ]
    }
   ],
   "source": [
    "fp=r'/Users/Aseem/breast_cancer/'\n",
    "no_of_partitions_per_para=10\n",
    "boston = load_boston()\n",
    "breast = load_breast_cancer()\n",
    "print(boston.data.shape)\n",
    "print(breast.data.shape)"
   ]
  },
  {
   "cell_type": "code",
   "execution_count": 4,
   "metadata": {},
   "outputs": [],
   "source": [
    "# #GETTING BREAST CANCER RAW DATA IN APPROPRIATE FORMAT IN A CSV FILE\n",
    "\n",
    "# with open(fp+'breast_cancer_data.csv', 'w', newline='\\n') as fp:  # NEW CSV FILE IS CREATED\n",
    "#     csvfile = csv.writer(fp, delimiter=',')\n",
    "#     headers=[]\n",
    "#     headers.append('id') #WE HAVE TO GIVE UNIQUE IDS OURSELF HERE\n",
    "#     for v in list(breast['feature_names']):\n",
    "#         headers.append(v)\n",
    "#     headers.append('class')\n",
    "#     csvfile.writerow(headers)\n",
    "#     data_1=[list(x) for x in breast['data']]\n",
    "#     data_2=[]\n",
    "#     for i in range (0,len(data_1)):\n",
    "#         x=[]\n",
    "#         x.append(i)\n",
    "#         for v in data_1[i]:\n",
    "#             x.append(v) \n",
    "\n",
    "#         x.append(breast['target'][i])\n",
    "#         data_2.append(x)        \n",
    "#         csvfile.writerow(x)\n",
    "        "
   ]
  },
  {
   "cell_type": "code",
   "execution_count": 5,
   "metadata": {
    "collapsed": true
   },
   "outputs": [],
   "source": [
    "# #GENERATING DECIMALIZED TRAIN AND TEST CSV FOR BREAST CANCER\n",
    "\n",
    "conn=psycopg2.connect(database=\"AI_DB_LOCAL\",user=\"Aseem\",host=\"localhost\")\n",
    "cur = conn.cursor()"
   ]
  },
  {
   "cell_type": "code",
   "execution_count": 6,
   "metadata": {},
   "outputs": [],
   "source": [
    "# PROC_BREAST_CANCER_DATA_IP=[no_of_partitions_per_para,fp]\n",
    "# cur.callproc('PROC_BREAST_CANCER_DATA',PROC_BREAST_CANCER_DATA_IP)\n",
    "# conn.commit() #commiting is important"
   ]
  },
  {
   "cell_type": "code",
   "execution_count": 16,
   "metadata": {},
   "outputs": [
    {
     "name": "stdout",
     "output_type": "stream",
     "text": [
      "Random Forest Accuracy\n",
      "    sum_of_accuracy  total_accuracy_perc\n",
      "0              102                90.27\n"
     ]
    }
   ],
   "source": [
    "#RANDOM FOREST BREAST CANCER DECIMALIZED TRAIN & TEST. ACCURACY FLUCTUATES FROM 91% TO 96%\n",
    "df_train=pandas.read_csv(fp+'Train_1.csv')\n",
    "df_test=pandas.read_csv(fp+'Test_1.csv')\n",
    "features=df_train.columns[1:-1] #taking specific columns for training.ignoring ID and class column \n",
    "\n",
    "clf = RandomForestClassifier(n_estimators=350,n_jobs=2, random_state=0)# Create a random forest Classifier. By convention, clf means 'Classifier'\n",
    "\n",
    "clf.fit(df_train[features], df_train['class']) #Training Random Forest . clf.fit(data,target)\n",
    "rf_pred=clf.predict(df_test[features])\n",
    "\n",
    "df_test_prob=pandas.DataFrame(np.column_stack([rf_pred,df_test['id']]),columns=['rf_pred','id'])\n",
    "\n",
    "engine = create_engine('postgresql+psycopg2://Aseem:@localhost/AI_DB_LOCAL')\n",
    "\n",
    "df_test_prob.to_sql('breast_cancer_rf_test_prob', engine,schema='internal',if_exists='replace',index=False)\n",
    "\n",
    "rf_analysis=psql.read_sql(\"\"\"\n",
    "    select sum(accuracy) sum_of_accuracy,round((sum(accuracy)::numeric/count(*))*100,2) as total_accuracy_perc\n",
    "    from(\n",
    "        select a.*,b.class,case when a.rf_pred=b.class then 1 else 0 end as accuracy \n",
    "        from internal.breast_cancer_rf_test_prob a\n",
    "        left join internal.breast_cancer_test b\n",
    "        on a.id=b.id\n",
    "        )a;\"\"\"\n",
    "           ,conn  )\n",
    "conn.commit()\n",
    "\n",
    "print('Random Forest Accuracy\\n',rf_analysis)"
   ]
  },
  {
   "cell_type": "code",
   "execution_count": 24,
   "metadata": {},
   "outputs": [
    {
     "name": "stdout",
     "output_type": "stream",
     "text": [
      "total_accuracy_perc= 95.19999999999999\n"
     ]
    },
    {
     "data": {
      "text/html": [
       "<div>\n",
       "<table border=\"1\" class=\"dataframe\">\n",
       "  <thead>\n",
       "    <tr style=\"text-align: right;\">\n",
       "      <th>Predicted Species</th>\n",
       "      <th>benign</th>\n",
       "      <th>malignant</th>\n",
       "    </tr>\n",
       "    <tr>\n",
       "      <th>Actual Species</th>\n",
       "      <th></th>\n",
       "      <th></th>\n",
       "    </tr>\n",
       "  </thead>\n",
       "  <tbody>\n",
       "    <tr>\n",
       "      <th>malignant</th>\n",
       "      <td>2</td>\n",
       "      <td>46</td>\n",
       "    </tr>\n",
       "    <tr>\n",
       "      <th>benign</th>\n",
       "      <td>73</td>\n",
       "      <td>4</td>\n",
       "    </tr>\n",
       "  </tbody>\n",
       "</table>\n",
       "</div>"
      ],
      "text/plain": [
       "Predicted Species  benign  malignant\n",
       "Actual Species                      \n",
       "malignant               2         46\n",
       "benign                 73          4"
      ]
     },
     "execution_count": 24,
     "metadata": {},
     "output_type": "execute_result"
    }
   ],
   "source": [
    "#RANDOM FOREST BREAST CANCER RAW DATA  #ACCURACY FLUCTUATES FROM 91% TO 96%\n",
    "breast = load_breast_cancer()\n",
    "df = pandas.DataFrame(breast.data, columns=breast.feature_names)\n",
    "\n",
    "df['species'] = pandas.Categorical.from_codes(breast.target, breast.target_names)\n",
    "df['is_train'] = numpy.random.uniform(0, 1, len(df)) <= .75\n",
    "train, test = df[df['is_train']==True], df[df['is_train']==False]\n",
    "df.head()\n",
    "features=breast.feature_names\n",
    "y = pandas.factorize(train['species'])[0]\n",
    "\n",
    "clf = RandomForestClassifier(n_jobs=2, random_state=0)\n",
    "clf.fit(train[features], y)\n",
    "\n",
    "preds = breast.target_names[clf.predict(test[features])]\n",
    "accuracy=0\n",
    "for i in range (0,preds.shape[0]):\n",
    "    if test['species'].values[i]==preds[i]:\n",
    "        accuracy=accuracy+1\n",
    "print('total_accuracy_perc=',(accuracy/preds.shape[0])*100)\n",
    "# Create confusion matrix\n",
    "pandas.crosstab(test['species'], preds, rownames=['Actual Species'], colnames=['Predicted Species'])"
   ]
  },
  {
   "cell_type": "code",
   "execution_count": 4,
   "metadata": {},
   "outputs": [
    {
     "name": "stdout",
     "output_type": "stream",
     "text": [
      "             precision    recall  f1-score   support\n",
      "\n",
      "     Cancer       0.94      0.98      0.96        47\n",
      "  No Cancer       0.98      0.96      0.97        67\n",
      "\n",
      "avg / total       0.97      0.96      0.97       114\n",
      "\n",
      "Overall Accuracy: 96.49%\n"
     ]
    }
   ],
   "source": [
    "#RANDOM FOREST 2\n",
    "from sklearn.datasets import load_breast_cancer\n",
    "from sklearn.model_selection import train_test_split\n",
    "from sklearn.ensemble import RandomForestClassifier\n",
    "from sklearn import metrics\n",
    "\n",
    "X, y = load_breast_cancer(return_X_y=True)\n",
    "X_train, X_test, y_train, y_test = train_test_split(X, y, test_size=0.2, random_state=0)\n",
    "\n",
    "model = RandomForestClassifier(n_estimators=150, random_state=0)\n",
    "model.fit(X_train, y_train)\n",
    "y_pred = model.predict(X_test)\n",
    "print(metrics.classification_report(y_test, y_pred, target_names=['Cancer', 'No Cancer']))\n",
    "print(f'Overall Accuracy: {metrics.accuracy_score(y_test, y_pred)*100:0.2f}%')"
   ]
  },
  {
   "cell_type": "code",
   "execution_count": 17,
   "metadata": {},
   "outputs": [
    {
     "name": "stdout",
     "output_type": "stream",
     "text": [
      "NIV2 Accuracy\n",
      "    sum_of_accuracy  total_accuracy_perc\n",
      "0              106                93.81\n"
     ]
    }
   ],
   "source": [
    "#NIV2  conf_thresh=[1,0.9,0.8]  accuracy= [95.58%,93.81%,93.81%] \n",
    "\n",
    "df_test_prob_NI=pandas.read_csv(fp+'Probability/Test_1_prob.csv')\n",
    "df_test_prob2_NI=pandas.DataFrame(np.column_stack([df_test_prob_NI['id'],df_test_prob_NI['NFM_C0'],df_test_prob_NI['NFM_C1']])\n",
    "                 ,columns=['id','total_nfm_c0','total_nfm_c1'])\n",
    "df_test_prob2_NI.to_sql('breast_cancer_niv2_test_prob', engine,schema='internal',if_exists='replace',index=False)\n",
    "\n",
    "niv2_analysis=psql.read_sql(\"\"\"\n",
    "    --NIV2\n",
    "    select sum(accuracy) sum_of_accuracy,round((sum(accuracy)::numeric/count(*))*100,2) as total_accuracy_perc\n",
    "    from(\n",
    "        select *,case when pred_class=class then 1 else 0 end as accuracy \n",
    "        from(\n",
    "            select a.*,b.class,CASE when a.Total_NFM_C0>a.Total_NFM_C1 then 0 else 1 end as pred_class\n",
    "            from internal.breast_cancer_niv2_test_prob a\n",
    "            left join internal.breast_cancer_test b\n",
    "            on a.id=b.id\n",
    "            )a\n",
    "        )b;\"\"\"\n",
    "         ,conn  )\n",
    "conn.commit()\n",
    "\n",
    "print('NIV2 Accuracy\\n',niv2_analysis)"
   ]
  },
  {
   "cell_type": "code",
   "execution_count": 147,
   "metadata": {},
   "outputs": [
    {
     "name": "stdout",
     "output_type": "stream",
     "text": [
      "no of train samples= 426\n",
      "no of test samples= 143\n",
      "total_accuracy_perc= 89.51\n"
     ]
    }
   ],
   "source": [
    "#NEURAL NETWORK --MULTI LAYER PERCEPTRON CLASSIFIER \n",
    "train_data, test_data, train_target, test_target = train_test_split(breast.data, breast.target, random_state=5)# SPLITS DATA INTO TRAIN AND TEST\n",
    "print('no of train samples=',len(train_target))\n",
    "print('no of test samples=',len(test_target))\n",
    "mlp = MLPClassifier(random_state=42)\n",
    "mlp.fit(train_data, train_target)\n",
    "print('total_accuracy_perc=',round((mlp.score(test_data, test_target))*100,2))"
   ]
  },
  {
   "cell_type": "code",
   "execution_count": 149,
   "metadata": {},
   "outputs": [
    {
     "name": "stdout",
     "output_type": "stream",
     "text": [
      "no of train samples= 426\n",
      "no of test samples= 143\n",
      "total_accuracy_perc= 95.8\n"
     ]
    }
   ],
   "source": [
    "#LOGISTIC REGRESSION - MOST BASIC\n",
    "train_data, test_data, train_target, test_target = train_test_split(breast.data, breast.target, random_state=100)# SPLITS DATA INTO TRAIN AND TEST\n",
    "print('no of train samples=',len(train_target))\n",
    "print('no of test samples=',len(test_target))\n",
    "log_reg = LogisticRegression()\n",
    "log_reg.fit(train_data, train_target)\n",
    "print('total_accuracy_perc=',round((log_reg.score(test_data, test_target))*100,2))\n",
    "lr_prob=log_reg.predict_proba(test_data)\n",
    "# numpy.set_printoptions(suppress=True)\n",
    "# numpy.array(lr_prob,numpy.float32)"
   ]
  }
 ],
 "metadata": {
  "kernelspec": {
   "display_name": "Python 3",
   "language": "python",
   "name": "python3"
  },
  "language_info": {
   "codemirror_mode": {
    "name": "ipython",
    "version": 3
   },
   "file_extension": ".py",
   "mimetype": "text/x-python",
   "name": "python",
   "nbconvert_exporter": "python",
   "pygments_lexer": "ipython3",
   "version": "3.6.8"
  }
 },
 "nbformat": 4,
 "nbformat_minor": 2
}
